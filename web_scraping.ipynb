{
 "cells": [
  {
   "cell_type": "code",
   "execution_count": 1,
   "metadata": {},
   "outputs": [],
   "source": [
    "import json\n",
    "import requests\n",
    "from bs4 import BeautifulSoup\n",
    "import bs4\n",
    "import pandas as pd"
   ]
  },
  {
   "cell_type": "code",
   "execution_count": 2,
   "metadata": {},
   "outputs": [],
   "source": [
    "# scraped url with beautifulsoup\n",
    "url = 'https://coinmarketcap.com/currencies/ethereum/historical-data/?start=20050314&end=20200314'\n",
    "\n",
    "def get_page_contents(url):\n",
    "    page = requests.get(url)\n",
    "    return bs4.BeautifulSoup(page.text, \"html.parser\")\n",
    "\n",
    "soup = get_page_contents(url)"
   ]
  },
  {
   "cell_type": "code",
   "execution_count": 3,
   "metadata": {},
   "outputs": [],
   "source": [
    "# viewed the source code\n",
    "#print(soup.prettify())"
   ]
  },
  {
   "cell_type": "code",
   "execution_count": 9,
   "metadata": {},
   "outputs": [
    {
     "data": {
      "text/plain": [
       "<td class=\"cmc-table__cell cmc-table__cell--sticky cmc-table__cell--left\"><div class=\"\">Mar 13, 2020</div></td>"
      ]
     },
     "execution_count": 9,
     "metadata": {},
     "output_type": "execute_result"
    }
   ],
   "source": [
    "soup.find('td', {'class':'cmc-table__cell--left'})"
   ]
  },
  {
   "cell_type": "code",
   "execution_count": 10,
   "metadata": {},
   "outputs": [
    {
     "data": {
      "text/plain": [
       "'5,838.11'"
      ]
     },
     "execution_count": 10,
     "metadata": {},
     "output_type": "execute_result"
    }
   ],
   "source": [
    "soup.find('tr', {'class':'cmc-table-row'}).find_all('td')[2].text"
   ]
  },
  {
   "cell_type": "code",
   "execution_count": 3,
   "metadata": {},
   "outputs": [
    {
     "data": {
      "text/html": [
       "<div>\n",
       "<style scoped>\n",
       "    .dataframe tbody tr th:only-of-type {\n",
       "        vertical-align: middle;\n",
       "    }\n",
       "\n",
       "    .dataframe tbody tr th {\n",
       "        vertical-align: top;\n",
       "    }\n",
       "\n",
       "    .dataframe thead th {\n",
       "        text-align: right;\n",
       "    }\n",
       "</style>\n",
       "<table border=\"1\" class=\"dataframe\">\n",
       "  <thead>\n",
       "    <tr style=\"text-align: right;\">\n",
       "      <th></th>\n",
       "      <th>Date</th>\n",
       "      <th>Open</th>\n",
       "      <th>High</th>\n",
       "      <th>Low</th>\n",
       "      <th>Close</th>\n",
       "      <th>Volume</th>\n",
       "      <th>Market_Cap</th>\n",
       "    </tr>\n",
       "  </thead>\n",
       "  <tbody>\n",
       "    <tr>\n",
       "      <td>0</td>\n",
       "      <td>Mar 13, 2020</td>\n",
       "      <td>112.69</td>\n",
       "      <td>137.43</td>\n",
       "      <td>95.18</td>\n",
       "      <td>133.20</td>\n",
       "      <td>27,864,623,061</td>\n",
       "      <td>14,663,417,618</td>\n",
       "    </tr>\n",
       "    <tr>\n",
       "      <td>1</td>\n",
       "      <td>Mar 12, 2020</td>\n",
       "      <td>194.74</td>\n",
       "      <td>195.15</td>\n",
       "      <td>111.21</td>\n",
       "      <td>112.35</td>\n",
       "      <td>22,134,741,655</td>\n",
       "      <td>12,366,138,225</td>\n",
       "    </tr>\n",
       "    <tr>\n",
       "      <td>2</td>\n",
       "      <td>Mar 11, 2020</td>\n",
       "      <td>200.77</td>\n",
       "      <td>202.95</td>\n",
       "      <td>184.36</td>\n",
       "      <td>194.87</td>\n",
       "      <td>16,984,790,291</td>\n",
       "      <td>21,446,678,546</td>\n",
       "    </tr>\n",
       "    <tr>\n",
       "      <td>3</td>\n",
       "      <td>Mar 10, 2020</td>\n",
       "      <td>202.86</td>\n",
       "      <td>205.71</td>\n",
       "      <td>198.06</td>\n",
       "      <td>200.77</td>\n",
       "      <td>18,344,930,072</td>\n",
       "      <td>22,093,126,953</td>\n",
       "    </tr>\n",
       "    <tr>\n",
       "      <td>4</td>\n",
       "      <td>Mar 09, 2020</td>\n",
       "      <td>201.32</td>\n",
       "      <td>207.45</td>\n",
       "      <td>192.27</td>\n",
       "      <td>201.99</td>\n",
       "      <td>23,645,428,606</td>\n",
       "      <td>22,224,520,906</td>\n",
       "    </tr>\n",
       "    <tr>\n",
       "      <td>...</td>\n",
       "      <td>...</td>\n",
       "      <td>...</td>\n",
       "      <td>...</td>\n",
       "      <td>...</td>\n",
       "      <td>...</td>\n",
       "      <td>...</td>\n",
       "      <td>...</td>\n",
       "    </tr>\n",
       "    <tr>\n",
       "      <td>1676</td>\n",
       "      <td>Aug 11, 2015</td>\n",
       "      <td>0.708087</td>\n",
       "      <td>1.13</td>\n",
       "      <td>0.663235</td>\n",
       "      <td>1.07</td>\n",
       "      <td>1,463,100</td>\n",
       "      <td>64,569,288</td>\n",
       "    </tr>\n",
       "    <tr>\n",
       "      <td>1677</td>\n",
       "      <td>Aug 10, 2015</td>\n",
       "      <td>0.713989</td>\n",
       "      <td>0.729854</td>\n",
       "      <td>0.636546</td>\n",
       "      <td>0.708448</td>\n",
       "      <td>405,283</td>\n",
       "      <td>42,818,364</td>\n",
       "    </tr>\n",
       "    <tr>\n",
       "      <td>1678</td>\n",
       "      <td>Aug 09, 2015</td>\n",
       "      <td>0.706136</td>\n",
       "      <td>0.879810</td>\n",
       "      <td>0.629191</td>\n",
       "      <td>0.701897</td>\n",
       "      <td>532,170</td>\n",
       "      <td>42,399,573</td>\n",
       "    </tr>\n",
       "    <tr>\n",
       "      <td>1679</td>\n",
       "      <td>Aug 08, 2015</td>\n",
       "      <td>2.79</td>\n",
       "      <td>2.80</td>\n",
       "      <td>0.714725</td>\n",
       "      <td>0.753325</td>\n",
       "      <td>674,188</td>\n",
       "      <td>45,486,894</td>\n",
       "    </tr>\n",
       "    <tr>\n",
       "      <td>1680</td>\n",
       "      <td>Aug 07, 2015</td>\n",
       "      <td>2.83</td>\n",
       "      <td>3.54</td>\n",
       "      <td>2.52</td>\n",
       "      <td>2.77</td>\n",
       "      <td>164,329</td>\n",
       "      <td>166,610,555</td>\n",
       "    </tr>\n",
       "  </tbody>\n",
       "</table>\n",
       "<p>1681 rows × 7 columns</p>\n",
       "</div>"
      ],
      "text/plain": [
       "              Date      Open      High       Low     Close          Volume  \\\n",
       "0     Mar 13, 2020    112.69    137.43     95.18    133.20  27,864,623,061   \n",
       "1     Mar 12, 2020    194.74    195.15    111.21    112.35  22,134,741,655   \n",
       "2     Mar 11, 2020    200.77    202.95    184.36    194.87  16,984,790,291   \n",
       "3     Mar 10, 2020    202.86    205.71    198.06    200.77  18,344,930,072   \n",
       "4     Mar 09, 2020    201.32    207.45    192.27    201.99  23,645,428,606   \n",
       "...            ...       ...       ...       ...       ...             ...   \n",
       "1676  Aug 11, 2015  0.708087      1.13  0.663235      1.07       1,463,100   \n",
       "1677  Aug 10, 2015  0.713989  0.729854  0.636546  0.708448         405,283   \n",
       "1678  Aug 09, 2015  0.706136  0.879810  0.629191  0.701897         532,170   \n",
       "1679  Aug 08, 2015      2.79      2.80  0.714725  0.753325         674,188   \n",
       "1680  Aug 07, 2015      2.83      3.54      2.52      2.77         164,329   \n",
       "\n",
       "          Market_Cap  \n",
       "0     14,663,417,618  \n",
       "1     12,366,138,225  \n",
       "2     21,446,678,546  \n",
       "3     22,093,126,953  \n",
       "4     22,224,520,906  \n",
       "...              ...  \n",
       "1676      64,569,288  \n",
       "1677      42,818,364  \n",
       "1678      42,399,573  \n",
       "1679      45,486,894  \n",
       "1680     166,610,555  \n",
       "\n",
       "[1681 rows x 7 columns]"
      ]
     },
     "execution_count": 3,
     "metadata": {},
     "output_type": "execute_result"
    }
   ],
   "source": [
    "# get data with html elements and attributes\n",
    "dateList=[]\n",
    "closeList=[]\n",
    "highList=[]\n",
    "lowList=[]\n",
    "openList=[]\n",
    "volumeList=[]\n",
    "marketCapList=[]\n",
    "\n",
    "tr = soup.find_all('tr', {'class':'cmc-table-row'})\n",
    "for item in tr:\n",
    "    dateList.append(item.find('td', {'class':'cmc-table__cell--left'}).text)\n",
    "    closeList.append(item.find_all('td')[4].text)\n",
    "    highList.append(item.find_all('td')[2].text)\n",
    "    lowList.append(item.find_all('td')[3].text)\n",
    "    openList.append(item.find_all('td')[1].text)\n",
    "    volumeList.append(item.find_all('td')[5].text)\n",
    "    marketCapList.append(item.find_all('td')[6].text)\n",
    "    \n",
    "# created dataframe    \n",
    "ethereum = pd.DataFrame({\n",
    "    'Date': dateList, \n",
    "    'Open': openList,\n",
    "    'High': highList, \n",
    "    'Low': lowList, \n",
    "    'Close': closeList,\n",
    "    'Volume': volumeList,\n",
    "    \"Market_Cap\": marketCapList\n",
    "})\n",
    "ethereum\n"
   ]
  },
  {
   "cell_type": "code",
   "execution_count": 4,
   "metadata": {},
   "outputs": [
    {
     "name": "stdout",
     "output_type": "stream",
     "text": [
      "ethereum_history.csv\n"
     ]
    }
   ],
   "source": [
    "# saved data as csv\n",
    "df_ethereum = pd.DataFrame(ethereum)\n",
    "fn = 'ethereum_history.csv'\n",
    "df_ethereum.to_csv(fn)\n",
    "print(fn)"
   ]
  },
  {
   "cell_type": "code",
   "execution_count": null,
   "metadata": {},
   "outputs": [],
   "source": []
  }
 ],
 "metadata": {
  "kernelspec": {
   "display_name": "Python 3",
   "language": "python",
   "name": "python3"
  },
  "language_info": {
   "codemirror_mode": {
    "name": "ipython",
    "version": 3
   },
   "file_extension": ".py",
   "mimetype": "text/x-python",
   "name": "python",
   "nbconvert_exporter": "python",
   "pygments_lexer": "ipython3",
   "version": "3.7.4"
  }
 },
 "nbformat": 4,
 "nbformat_minor": 2
}
